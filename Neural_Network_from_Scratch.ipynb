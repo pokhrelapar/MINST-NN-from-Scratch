{
  "nbformat": 4,
  "nbformat_minor": 0,
  "metadata": {
    "colab": {
      "name": "Neural Network from Scratch.ipynb",
      "provenance": [],
      "collapsed_sections": []
    },
    "kernelspec": {
      "name": "python3",
      "display_name": "Python 3"
    },
    "language_info": {
      "name": "python"
    }
  },
  "cells": [
    {
      "cell_type": "markdown",
      "source": [
        "Building a Neural Network form Scratch using the MINST Dataset"
      ],
      "metadata": {
        "id": "rV-Pze-rd1jP"
      }
    },
    {
      "cell_type": "markdown",
      "source": [
        "#1.Installing dependencies"
      ],
      "metadata": {
        "id": "VHHjDg6coHZA"
      }
    },
    {
      "cell_type": "code",
      "source": [
        "!pip install opendatasets"
      ],
      "metadata": {
        "colab": {
          "base_uri": "https://localhost:8080/"
        },
        "id": "6kJf0cB3ldWp",
        "outputId": "069b9fee-8521-48be-a479-793942789c99"
      },
      "execution_count": 4,
      "outputs": [
        {
          "output_type": "stream",
          "name": "stdout",
          "text": [
            "Looking in indexes: https://pypi.org/simple, https://us-python.pkg.dev/colab-wheels/public/simple/\n",
            "Collecting opendatasets\n",
            "  Downloading opendatasets-0.1.22-py3-none-any.whl (15 kB)\n",
            "Requirement already satisfied: kaggle in /usr/local/lib/python3.7/dist-packages (from opendatasets) (1.5.12)\n",
            "Requirement already satisfied: click in /usr/local/lib/python3.7/dist-packages (from opendatasets) (7.1.2)\n",
            "Requirement already satisfied: tqdm in /usr/local/lib/python3.7/dist-packages (from opendatasets) (4.64.0)\n",
            "Requirement already satisfied: urllib3 in /usr/local/lib/python3.7/dist-packages (from kaggle->opendatasets) (1.24.3)\n",
            "Requirement already satisfied: certifi in /usr/local/lib/python3.7/dist-packages (from kaggle->opendatasets) (2022.5.18.1)\n",
            "Requirement already satisfied: python-dateutil in /usr/local/lib/python3.7/dist-packages (from kaggle->opendatasets) (2.8.2)\n",
            "Requirement already satisfied: six>=1.10 in /usr/local/lib/python3.7/dist-packages (from kaggle->opendatasets) (1.15.0)\n",
            "Requirement already satisfied: python-slugify in /usr/local/lib/python3.7/dist-packages (from kaggle->opendatasets) (6.1.2)\n",
            "Requirement already satisfied: requests in /usr/local/lib/python3.7/dist-packages (from kaggle->opendatasets) (2.23.0)\n",
            "Requirement already satisfied: text-unidecode>=1.3 in /usr/local/lib/python3.7/dist-packages (from python-slugify->kaggle->opendatasets) (1.3)\n",
            "Requirement already satisfied: idna<3,>=2.5 in /usr/local/lib/python3.7/dist-packages (from requests->kaggle->opendatasets) (2.10)\n",
            "Requirement already satisfied: chardet<4,>=3.0.2 in /usr/local/lib/python3.7/dist-packages (from requests->kaggle->opendatasets) (3.0.4)\n",
            "Installing collected packages: opendatasets\n",
            "Successfully installed opendatasets-0.1.22\n"
          ]
        }
      ]
    },
    {
      "cell_type": "code",
      "source": [
        "import numpy as np\n",
        "import pandas as pd\n",
        "from matplotlib import pyplot as plt\n",
        "import opendatasets as od"
      ],
      "metadata": {
        "id": "MqUx6xSRd00T"
      },
      "execution_count": 5,
      "outputs": []
    },
    {
      "cell_type": "code",
      "execution_count": 6,
      "metadata": {
        "colab": {
          "base_uri": "https://localhost:8080/"
        },
        "id": "bCpT2g_Cdz9x",
        "outputId": "4fad28d6-d580-4e7c-ed45-ade28205503b"
      },
      "outputs": [
        {
          "output_type": "stream",
          "name": "stdout",
          "text": [
            "Please provide your Kaggle credentials to download this dataset. Learn more: http://bit.ly/kaggle-creds\n",
            "Your Kaggle username: aparpokhrel\n",
            "Your Kaggle Key: ··········\n",
            "Downloading digit-recognizer.zip to ./digit-recognizer\n"
          ]
        },
        {
          "output_type": "stream",
          "name": "stderr",
          "text": [
            "100%|██████████| 15.3M/15.3M [00:00<00:00, 73.7MB/s]\n"
          ]
        },
        {
          "output_type": "stream",
          "name": "stdout",
          "text": [
            "\n",
            "Extracting archive ./digit-recognizer/digit-recognizer.zip to ./digit-recognizer\n"
          ]
        }
      ],
      "source": [
        "data = od.download('https://www.kaggle.com/competitions/digit-recognizer/data')"
      ]
    },
    {
      "cell_type": "code",
      "source": [
        "pandasData = pd.read_csv('/content/digit-recognizer/train.csv')"
      ],
      "metadata": {
        "id": "qZi1nSUilr4B"
      },
      "execution_count": 7,
      "outputs": []
    },
    {
      "cell_type": "code",
      "source": [
        "pandasData.head()"
      ],
      "metadata": {
        "colab": {
          "base_uri": "https://localhost:8080/",
          "height": 299
        },
        "id": "0kOE6_QUmGgf",
        "outputId": "9f6573d1-2e1b-4546-ec96-205f306005aa"
      },
      "execution_count": 8,
      "outputs": [
        {
          "output_type": "execute_result",
          "data": {
            "text/plain": [
              "   label  pixel0  pixel1  pixel2  pixel3  pixel4  pixel5  pixel6  pixel7  \\\n",
              "0      1       0       0       0       0       0       0       0       0   \n",
              "1      0       0       0       0       0       0       0       0       0   \n",
              "2      1       0       0       0       0       0       0       0       0   \n",
              "3      4       0       0       0       0       0       0       0       0   \n",
              "4      0       0       0       0       0       0       0       0       0   \n",
              "\n",
              "   pixel8  ...  pixel774  pixel775  pixel776  pixel777  pixel778  pixel779  \\\n",
              "0       0  ...         0         0         0         0         0         0   \n",
              "1       0  ...         0         0         0         0         0         0   \n",
              "2       0  ...         0         0         0         0         0         0   \n",
              "3       0  ...         0         0         0         0         0         0   \n",
              "4       0  ...         0         0         0         0         0         0   \n",
              "\n",
              "   pixel780  pixel781  pixel782  pixel783  \n",
              "0         0         0         0         0  \n",
              "1         0         0         0         0  \n",
              "2         0         0         0         0  \n",
              "3         0         0         0         0  \n",
              "4         0         0         0         0  \n",
              "\n",
              "[5 rows x 785 columns]"
            ],
            "text/html": [
              "\n",
              "  <div id=\"df-cd5cd78e-9ee7-42e2-abd1-87ecce9ebad6\">\n",
              "    <div class=\"colab-df-container\">\n",
              "      <div>\n",
              "<style scoped>\n",
              "    .dataframe tbody tr th:only-of-type {\n",
              "        vertical-align: middle;\n",
              "    }\n",
              "\n",
              "    .dataframe tbody tr th {\n",
              "        vertical-align: top;\n",
              "    }\n",
              "\n",
              "    .dataframe thead th {\n",
              "        text-align: right;\n",
              "    }\n",
              "</style>\n",
              "<table border=\"1\" class=\"dataframe\">\n",
              "  <thead>\n",
              "    <tr style=\"text-align: right;\">\n",
              "      <th></th>\n",
              "      <th>label</th>\n",
              "      <th>pixel0</th>\n",
              "      <th>pixel1</th>\n",
              "      <th>pixel2</th>\n",
              "      <th>pixel3</th>\n",
              "      <th>pixel4</th>\n",
              "      <th>pixel5</th>\n",
              "      <th>pixel6</th>\n",
              "      <th>pixel7</th>\n",
              "      <th>pixel8</th>\n",
              "      <th>...</th>\n",
              "      <th>pixel774</th>\n",
              "      <th>pixel775</th>\n",
              "      <th>pixel776</th>\n",
              "      <th>pixel777</th>\n",
              "      <th>pixel778</th>\n",
              "      <th>pixel779</th>\n",
              "      <th>pixel780</th>\n",
              "      <th>pixel781</th>\n",
              "      <th>pixel782</th>\n",
              "      <th>pixel783</th>\n",
              "    </tr>\n",
              "  </thead>\n",
              "  <tbody>\n",
              "    <tr>\n",
              "      <th>0</th>\n",
              "      <td>1</td>\n",
              "      <td>0</td>\n",
              "      <td>0</td>\n",
              "      <td>0</td>\n",
              "      <td>0</td>\n",
              "      <td>0</td>\n",
              "      <td>0</td>\n",
              "      <td>0</td>\n",
              "      <td>0</td>\n",
              "      <td>0</td>\n",
              "      <td>...</td>\n",
              "      <td>0</td>\n",
              "      <td>0</td>\n",
              "      <td>0</td>\n",
              "      <td>0</td>\n",
              "      <td>0</td>\n",
              "      <td>0</td>\n",
              "      <td>0</td>\n",
              "      <td>0</td>\n",
              "      <td>0</td>\n",
              "      <td>0</td>\n",
              "    </tr>\n",
              "    <tr>\n",
              "      <th>1</th>\n",
              "      <td>0</td>\n",
              "      <td>0</td>\n",
              "      <td>0</td>\n",
              "      <td>0</td>\n",
              "      <td>0</td>\n",
              "      <td>0</td>\n",
              "      <td>0</td>\n",
              "      <td>0</td>\n",
              "      <td>0</td>\n",
              "      <td>0</td>\n",
              "      <td>...</td>\n",
              "      <td>0</td>\n",
              "      <td>0</td>\n",
              "      <td>0</td>\n",
              "      <td>0</td>\n",
              "      <td>0</td>\n",
              "      <td>0</td>\n",
              "      <td>0</td>\n",
              "      <td>0</td>\n",
              "      <td>0</td>\n",
              "      <td>0</td>\n",
              "    </tr>\n",
              "    <tr>\n",
              "      <th>2</th>\n",
              "      <td>1</td>\n",
              "      <td>0</td>\n",
              "      <td>0</td>\n",
              "      <td>0</td>\n",
              "      <td>0</td>\n",
              "      <td>0</td>\n",
              "      <td>0</td>\n",
              "      <td>0</td>\n",
              "      <td>0</td>\n",
              "      <td>0</td>\n",
              "      <td>...</td>\n",
              "      <td>0</td>\n",
              "      <td>0</td>\n",
              "      <td>0</td>\n",
              "      <td>0</td>\n",
              "      <td>0</td>\n",
              "      <td>0</td>\n",
              "      <td>0</td>\n",
              "      <td>0</td>\n",
              "      <td>0</td>\n",
              "      <td>0</td>\n",
              "    </tr>\n",
              "    <tr>\n",
              "      <th>3</th>\n",
              "      <td>4</td>\n",
              "      <td>0</td>\n",
              "      <td>0</td>\n",
              "      <td>0</td>\n",
              "      <td>0</td>\n",
              "      <td>0</td>\n",
              "      <td>0</td>\n",
              "      <td>0</td>\n",
              "      <td>0</td>\n",
              "      <td>0</td>\n",
              "      <td>...</td>\n",
              "      <td>0</td>\n",
              "      <td>0</td>\n",
              "      <td>0</td>\n",
              "      <td>0</td>\n",
              "      <td>0</td>\n",
              "      <td>0</td>\n",
              "      <td>0</td>\n",
              "      <td>0</td>\n",
              "      <td>0</td>\n",
              "      <td>0</td>\n",
              "    </tr>\n",
              "    <tr>\n",
              "      <th>4</th>\n",
              "      <td>0</td>\n",
              "      <td>0</td>\n",
              "      <td>0</td>\n",
              "      <td>0</td>\n",
              "      <td>0</td>\n",
              "      <td>0</td>\n",
              "      <td>0</td>\n",
              "      <td>0</td>\n",
              "      <td>0</td>\n",
              "      <td>0</td>\n",
              "      <td>...</td>\n",
              "      <td>0</td>\n",
              "      <td>0</td>\n",
              "      <td>0</td>\n",
              "      <td>0</td>\n",
              "      <td>0</td>\n",
              "      <td>0</td>\n",
              "      <td>0</td>\n",
              "      <td>0</td>\n",
              "      <td>0</td>\n",
              "      <td>0</td>\n",
              "    </tr>\n",
              "  </tbody>\n",
              "</table>\n",
              "<p>5 rows × 785 columns</p>\n",
              "</div>\n",
              "      <button class=\"colab-df-convert\" onclick=\"convertToInteractive('df-cd5cd78e-9ee7-42e2-abd1-87ecce9ebad6')\"\n",
              "              title=\"Convert this dataframe to an interactive table.\"\n",
              "              style=\"display:none;\">\n",
              "        \n",
              "  <svg xmlns=\"http://www.w3.org/2000/svg\" height=\"24px\"viewBox=\"0 0 24 24\"\n",
              "       width=\"24px\">\n",
              "    <path d=\"M0 0h24v24H0V0z\" fill=\"none\"/>\n",
              "    <path d=\"M18.56 5.44l.94 2.06.94-2.06 2.06-.94-2.06-.94-.94-2.06-.94 2.06-2.06.94zm-11 1L8.5 8.5l.94-2.06 2.06-.94-2.06-.94L8.5 2.5l-.94 2.06-2.06.94zm10 10l.94 2.06.94-2.06 2.06-.94-2.06-.94-.94-2.06-.94 2.06-2.06.94z\"/><path d=\"M17.41 7.96l-1.37-1.37c-.4-.4-.92-.59-1.43-.59-.52 0-1.04.2-1.43.59L10.3 9.45l-7.72 7.72c-.78.78-.78 2.05 0 2.83L4 21.41c.39.39.9.59 1.41.59.51 0 1.02-.2 1.41-.59l7.78-7.78 2.81-2.81c.8-.78.8-2.07 0-2.86zM5.41 20L4 18.59l7.72-7.72 1.47 1.35L5.41 20z\"/>\n",
              "  </svg>\n",
              "      </button>\n",
              "      \n",
              "  <style>\n",
              "    .colab-df-container {\n",
              "      display:flex;\n",
              "      flex-wrap:wrap;\n",
              "      gap: 12px;\n",
              "    }\n",
              "\n",
              "    .colab-df-convert {\n",
              "      background-color: #E8F0FE;\n",
              "      border: none;\n",
              "      border-radius: 50%;\n",
              "      cursor: pointer;\n",
              "      display: none;\n",
              "      fill: #1967D2;\n",
              "      height: 32px;\n",
              "      padding: 0 0 0 0;\n",
              "      width: 32px;\n",
              "    }\n",
              "\n",
              "    .colab-df-convert:hover {\n",
              "      background-color: #E2EBFA;\n",
              "      box-shadow: 0px 1px 2px rgba(60, 64, 67, 0.3), 0px 1px 3px 1px rgba(60, 64, 67, 0.15);\n",
              "      fill: #174EA6;\n",
              "    }\n",
              "\n",
              "    [theme=dark] .colab-df-convert {\n",
              "      background-color: #3B4455;\n",
              "      fill: #D2E3FC;\n",
              "    }\n",
              "\n",
              "    [theme=dark] .colab-df-convert:hover {\n",
              "      background-color: #434B5C;\n",
              "      box-shadow: 0px 1px 3px 1px rgba(0, 0, 0, 0.15);\n",
              "      filter: drop-shadow(0px 1px 2px rgba(0, 0, 0, 0.3));\n",
              "      fill: #FFFFFF;\n",
              "    }\n",
              "  </style>\n",
              "\n",
              "      <script>\n",
              "        const buttonEl =\n",
              "          document.querySelector('#df-cd5cd78e-9ee7-42e2-abd1-87ecce9ebad6 button.colab-df-convert');\n",
              "        buttonEl.style.display =\n",
              "          google.colab.kernel.accessAllowed ? 'block' : 'none';\n",
              "\n",
              "        async function convertToInteractive(key) {\n",
              "          const element = document.querySelector('#df-cd5cd78e-9ee7-42e2-abd1-87ecce9ebad6');\n",
              "          const dataTable =\n",
              "            await google.colab.kernel.invokeFunction('convertToInteractive',\n",
              "                                                     [key], {});\n",
              "          if (!dataTable) return;\n",
              "\n",
              "          const docLinkHtml = 'Like what you see? Visit the ' +\n",
              "            '<a target=\"_blank\" href=https://colab.research.google.com/notebooks/data_table.ipynb>data table notebook</a>'\n",
              "            + ' to learn more about interactive tables.';\n",
              "          element.innerHTML = '';\n",
              "          dataTable['output_type'] = 'display_data';\n",
              "          await google.colab.output.renderOutput(dataTable, element);\n",
              "          const docLink = document.createElement('div');\n",
              "          docLink.innerHTML = docLinkHtml;\n",
              "          element.appendChild(docLink);\n",
              "        }\n",
              "      </script>\n",
              "    </div>\n",
              "  </div>\n",
              "  "
            ]
          },
          "metadata": {},
          "execution_count": 8
        }
      ]
    },
    {
      "cell_type": "markdown",
      "source": [
        "##1.1 Splitting dataset"
      ],
      "metadata": {
        "id": "yFs5CgIqoMZ7"
      }
    },
    {
      "cell_type": "code",
      "source": [
        "Data = np.array(pandasData)\n",
        "m,n = Data.shape\n",
        "np.random.shuffle(Data)\n",
        "\n",
        "data_valid = Data[0:1000].T\n",
        "Y_valid = data_valid[0]\n",
        "X_valid = data_valid[1:n]\n",
        "X_valid = X_valid / 255.\n",
        "\n",
        "data_train = Data[1000:m].T\n",
        "Y_train = data_train[0]\n",
        "X_train = data_train[1:n]\n",
        "X_train = X_train / 255.\n",
        "_,m_train = X_train.shape"
      ],
      "metadata": {
        "id": "QPGdkK_GmLFQ"
      },
      "execution_count": 73,
      "outputs": []
    },
    {
      "cell_type": "code",
      "source": [
        "Y_train\n"
      ],
      "metadata": {
        "colab": {
          "base_uri": "https://localhost:8080/"
        },
        "id": "nkjkPJN2nHT6",
        "outputId": "d6e72159-62b2-46c9-e222-a7b1c71eba62"
      },
      "execution_count": 74,
      "outputs": [
        {
          "output_type": "execute_result",
          "data": {
            "text/plain": [
              "array([4, 3, 3, ..., 0, 2, 7])"
            ]
          },
          "metadata": {},
          "execution_count": 74
        }
      ]
    },
    {
      "cell_type": "markdown",
      "source": [
        ""
      ],
      "metadata": {
        "id": "4-BFdY09oDnk"
      }
    },
    {
      "cell_type": "markdown",
      "source": [
        "#2. Initalizing parameters"
      ],
      "metadata": {
        "id": "I8aW2fV6oPyW"
      }
    },
    {
      "cell_type": "code",
      "source": [
        "def init_params():\n",
        "    W1 = np.random.rand(10, 784) - 0.5\n",
        "    b1 = np.random.rand(10, 1) - 0.5\n",
        "    W2 = np.random.rand(10, 10) - 0.5\n",
        "    b2 = np.random.rand(10, 1) - 0.5\n",
        "    return W1, b1, W2, b2\n",
        "\n",
        "\n",
        "#ReLU activativation function\n",
        "def ReLU(Z):\n",
        "    return np.maximum(Z, 0)\n",
        "\n",
        "\n",
        "#softmax activation for output layer\n",
        "def softmax(Z):\n",
        "    A = np.exp(Z) / sum(np.exp(Z))\n",
        "    return A\n",
        "    \n",
        "\n",
        "# return the derivate of the reLU function\n",
        "def ReLU_deriv(Z):\n",
        "    return Z > 0\n",
        "\n",
        "\n",
        "#encode Y labels\n",
        "def one_hot(Y):\n",
        "    one_hot_Y = np.zeros((Y.size, Y.max() + 1))\n",
        "    one_hot_Y[np.arange(Y.size), Y] = 1\n",
        "    one_hot_Y = one_hot_Y.T\n",
        "    return one_hot_Y\n",
        "\n",
        "\n"
      ],
      "metadata": {
        "id": "Tv4sez3unPhy"
      },
      "execution_count": 75,
      "outputs": []
    },
    {
      "cell_type": "markdown",
      "source": [
        "#2.1 Forward propagation"
      ],
      "metadata": {
        "id": "TyWvQOEqoSDp"
      }
    },
    {
      "cell_type": "code",
      "source": [
        "def forward_prop(W1, b1, W2, b2, X):\n",
        "    Z1 = W1.dot(X) + b1\n",
        "    A1 = ReLU(Z1)\n",
        "    Z2 = W2.dot(A1) + b2\n",
        "    A2 = softmax(Z2)\n",
        "    return Z1, A1, Z2, A2\n",
        "\n",
        "  \n",
        "\n",
        "def get_predictions(A2):\n",
        "    return np.argmax(A2, 0)\n",
        "\n",
        "def get_accuracy(predictions, Y):\n",
        "    print(predictions, Y)\n",
        "    return np.sum(predictions == Y) / Y.size\n"
      ],
      "metadata": {
        "id": "aCxCoKg6oZXW"
      },
      "execution_count": 76,
      "outputs": []
    },
    {
      "cell_type": "markdown",
      "source": [
        "#2.2 Bakward propagation"
      ],
      "metadata": {
        "id": "rds_dlu_oWzj"
      }
    },
    {
      "cell_type": "code",
      "source": [
        "def backward_prop(Z1, A1, Z2, A2, W1, W2, X, Y):\n",
        "    one_hot_Y = one_hot(Y)\n",
        "    dZ2 = A2 - one_hot_Y\n",
        "    dW2 = 1 / m * dZ2.dot(A1.T)\n",
        "    db2 = 1 / m * np.sum(dZ2)\n",
        "    dZ1 = W2.T.dot(dZ2) * ReLU_deriv(Z1)\n",
        "    dW1 = 1 / m * dZ1.dot(X.T)\n",
        "    db1 = 1 / m * np.sum(dZ1)\n",
        "    return dW1, db1, dW2, db2\n",
        "\n",
        "\n"
      ],
      "metadata": {
        "id": "Fq8MQiAJoCPk"
      },
      "execution_count": 77,
      "outputs": []
    },
    {
      "cell_type": "markdown",
      "source": [
        "##2.3 Upadate parameters\n",
        "\n",
        "\n",
        "\n"
      ],
      "metadata": {
        "id": "zTy5YsPcwUT-"
      }
    },
    {
      "cell_type": "code",
      "source": [
        "\n",
        "#upadte the parameters after propagation\n",
        "def update_params(W1, b1, W2, b2, dW1, db1, dW2, db2, alpha):\n",
        "    W1 = W1 - alpha * dW1\n",
        "    b1 = b1 - alpha * db1    \n",
        "    W2 = W2 - alpha * dW2  \n",
        "    b2 = b2 - alpha * db2    \n",
        "    return W1, b1, W2, b2"
      ],
      "metadata": {
        "id": "MPxyUvV_0tqH"
      },
      "execution_count": 78,
      "outputs": []
    },
    {
      "cell_type": "code",
      "source": [
        "def make_predictions(X, W1, b1, W2, b2):\n",
        "    _, _, _, A2 = forward_prop(W1, b1, W2, b2, X)\n",
        "    predictions = get_predictions(A2)\n",
        "    return predictions\n",
        "\n",
        "def test_prediction(index, W1, b1, W2, b2):\n",
        "    current_image = X_train[:, index, None]\n",
        "    prediction = make_predictions(X_train[:, index, None], W1, b1, W2, b2)\n",
        "    label = Y_train[index]\n",
        "    print(\"Prediction: \", prediction)\n",
        "    print(\"Label: \", label)\n",
        "    \n",
        "    current_image = current_image.reshape((28, 28)) * 255\n",
        "    plt.gray()\n",
        "    plt.imshow(current_image, interpolation='nearest')\n",
        "    plt.show()"
      ],
      "metadata": {
        "id": "wo4z756jwSPf"
      },
      "execution_count": 79,
      "outputs": []
    },
    {
      "cell_type": "markdown",
      "source": [
        "## 2.4 Gradient Descent"
      ],
      "metadata": {
        "id": "j9LqjUpdxJbH"
      }
    },
    {
      "cell_type": "code",
      "source": [
        "\n",
        "def gradient_descent(X, Y, alpha, iterations):\n",
        "    W1, b1, W2, b2 = init_params()\n",
        "    for i in range(iterations):\n",
        "        Z1, A1, Z2, A2 = forward_prop(W1, b1, W2, b2, X)\n",
        "        dW1, db1, dW2, db2 = backward_prop(Z1, A1, Z2, A2, W1, W2, X, Y)\n",
        "        W1, b1, W2, b2 = update_params(W1, b1, W2, b2, dW1, db1, dW2, db2, alpha)\n",
        "        if i % 10 == 0:\n",
        "            print(\"Iteration: \", i)\n",
        "            predictions = get_predictions(A2)\n",
        "            print(get_accuracy(predictions, Y))\n",
        "    return W1, b1, W2, b2\n",
        "\n",
        "\n"
      ],
      "metadata": {
        "id": "GcFfXQq8xL_I"
      },
      "execution_count": null,
      "outputs": []
    },
    {
      "cell_type": "markdown",
      "source": [
        "#3. Running the model"
      ],
      "metadata": {
        "id": "dWfxE_pl_WON"
      }
    },
    {
      "cell_type": "code",
      "source": [
        "#learning rate = 0.10\n",
        "#iterations = 500\n",
        "W1, b1, W2, b2 = gradient_descent(X_train, Y_train, 0.10, 500)"
      ],
      "metadata": {
        "colab": {
          "base_uri": "https://localhost:8080/"
        },
        "id": "i2fAmP0E_Yma",
        "outputId": "9a16d6e6-b541-43c9-b286-13bb3e89623a"
      },
      "execution_count": 81,
      "outputs": [
        {
          "output_type": "stream",
          "name": "stdout",
          "text": [
            "Iteration:  0\n",
            "[8 8 6 ... 6 8 0] [4 3 3 ... 0 2 7]\n",
            "0.09634146341463415\n",
            "Iteration:  10\n",
            "[8 8 6 ... 3 6 8] [4 3 3 ... 0 2 7]\n",
            "0.1438780487804878\n",
            "Iteration:  20\n",
            "[9 8 6 ... 0 6 8] [4 3 3 ... 0 2 7]\n",
            "0.201609756097561\n",
            "Iteration:  30\n",
            "[9 6 6 ... 0 6 8] [4 3 3 ... 0 2 7]\n",
            "0.28368292682926827\n",
            "Iteration:  40\n",
            "[9 3 6 ... 0 2 8] [4 3 3 ... 0 2 7]\n",
            "0.35817073170731706\n",
            "Iteration:  50\n",
            "[9 3 6 ... 0 6 7] [4 3 3 ... 0 2 7]\n",
            "0.42104878048780486\n",
            "Iteration:  60\n",
            "[9 3 6 ... 0 6 7] [4 3 3 ... 0 2 7]\n",
            "0.4676585365853659\n",
            "Iteration:  70\n",
            "[9 3 6 ... 0 6 7] [4 3 3 ... 0 2 7]\n",
            "0.5018048780487805\n",
            "Iteration:  80\n",
            "[9 3 6 ... 0 6 7] [4 3 3 ... 0 2 7]\n",
            "0.529\n",
            "Iteration:  90\n",
            "[9 3 6 ... 0 6 7] [4 3 3 ... 0 2 7]\n",
            "0.5490487804878049\n",
            "Iteration:  100\n",
            "[9 3 6 ... 0 6 7] [4 3 3 ... 0 2 7]\n",
            "0.5684146341463414\n",
            "Iteration:  110\n",
            "[9 3 6 ... 0 6 7] [4 3 3 ... 0 2 7]\n",
            "0.5865609756097561\n",
            "Iteration:  120\n",
            "[9 3 6 ... 0 6 7] [4 3 3 ... 0 2 7]\n",
            "0.6032195121951219\n",
            "Iteration:  130\n",
            "[9 3 6 ... 0 6 7] [4 3 3 ... 0 2 7]\n",
            "0.6175609756097561\n",
            "Iteration:  140\n",
            "[9 3 6 ... 0 2 7] [4 3 3 ... 0 2 7]\n",
            "0.6314146341463415\n",
            "Iteration:  150\n",
            "[9 3 6 ... 0 2 7] [4 3 3 ... 0 2 7]\n",
            "0.643390243902439\n",
            "Iteration:  160\n",
            "[9 3 6 ... 0 2 7] [4 3 3 ... 0 2 7]\n",
            "0.6556341463414634\n",
            "Iteration:  170\n",
            "[9 3 6 ... 5 2 7] [4 3 3 ... 0 2 7]\n",
            "0.6667317073170732\n",
            "Iteration:  180\n",
            "[9 3 6 ... 5 2 7] [4 3 3 ... 0 2 7]\n",
            "0.6769268292682927\n",
            "Iteration:  190\n",
            "[9 3 1 ... 5 2 7] [4 3 3 ... 0 2 7]\n",
            "0.6852682926829269\n",
            "Iteration:  200\n",
            "[9 3 1 ... 5 2 7] [4 3 3 ... 0 2 7]\n",
            "0.6944146341463414\n",
            "Iteration:  210\n",
            "[9 3 1 ... 5 2 7] [4 3 3 ... 0 2 7]\n",
            "0.7019024390243902\n",
            "Iteration:  220\n",
            "[9 3 1 ... 5 2 7] [4 3 3 ... 0 2 7]\n",
            "0.7090975609756097\n",
            "Iteration:  230\n",
            "[9 3 1 ... 5 2 7] [4 3 3 ... 0 2 7]\n",
            "0.7154634146341463\n",
            "Iteration:  240\n",
            "[9 3 1 ... 5 2 7] [4 3 3 ... 0 2 7]\n",
            "0.7219512195121951\n",
            "Iteration:  250\n",
            "[9 3 1 ... 5 2 7] [4 3 3 ... 0 2 7]\n",
            "0.7273658536585366\n",
            "Iteration:  260\n",
            "[9 3 1 ... 5 2 7] [4 3 3 ... 0 2 7]\n",
            "0.7324634146341463\n",
            "Iteration:  270\n",
            "[9 3 1 ... 5 2 7] [4 3 3 ... 0 2 7]\n",
            "0.7380487804878049\n",
            "Iteration:  280\n",
            "[9 3 1 ... 5 2 7] [4 3 3 ... 0 2 7]\n",
            "0.7437317073170732\n",
            "Iteration:  290\n",
            "[9 3 1 ... 5 2 7] [4 3 3 ... 0 2 7]\n",
            "0.7488048780487805\n",
            "Iteration:  300\n",
            "[9 3 1 ... 5 2 7] [4 3 3 ... 0 2 7]\n",
            "0.7541219512195122\n",
            "Iteration:  310\n",
            "[9 3 1 ... 5 2 7] [4 3 3 ... 0 2 7]\n",
            "0.7589268292682927\n",
            "Iteration:  320\n",
            "[9 3 1 ... 5 2 7] [4 3 3 ... 0 2 7]\n",
            "0.7627560975609756\n",
            "Iteration:  330\n",
            "[9 3 1 ... 5 2 7] [4 3 3 ... 0 2 7]\n",
            "0.7676829268292683\n",
            "Iteration:  340\n",
            "[4 3 1 ... 5 2 7] [4 3 3 ... 0 2 7]\n",
            "0.7726585365853659\n",
            "Iteration:  350\n",
            "[4 3 1 ... 5 2 7] [4 3 3 ... 0 2 7]\n",
            "0.7763414634146342\n",
            "Iteration:  360\n",
            "[4 3 1 ... 5 2 7] [4 3 3 ... 0 2 7]\n",
            "0.7807073170731708\n",
            "Iteration:  370\n",
            "[4 3 1 ... 5 2 7] [4 3 3 ... 0 2 7]\n",
            "0.7848536585365854\n",
            "Iteration:  380\n",
            "[4 3 1 ... 5 2 7] [4 3 3 ... 0 2 7]\n",
            "0.7894390243902439\n",
            "Iteration:  390\n",
            "[4 3 1 ... 5 2 7] [4 3 3 ... 0 2 7]\n",
            "0.7926585365853659\n",
            "Iteration:  400\n",
            "[4 3 1 ... 5 2 7] [4 3 3 ... 0 2 7]\n",
            "0.7961707317073171\n",
            "Iteration:  410\n",
            "[4 3 1 ... 5 2 7] [4 3 3 ... 0 2 7]\n",
            "0.7992682926829269\n",
            "Iteration:  420\n",
            "[4 3 1 ... 5 2 7] [4 3 3 ... 0 2 7]\n",
            "0.8015853658536586\n",
            "Iteration:  430\n",
            "[4 3 1 ... 5 2 7] [4 3 3 ... 0 2 7]\n",
            "0.8052682926829269\n",
            "Iteration:  440\n",
            "[4 3 1 ... 5 2 7] [4 3 3 ... 0 2 7]\n",
            "0.8079756097560976\n",
            "Iteration:  450\n",
            "[4 3 1 ... 5 2 7] [4 3 3 ... 0 2 7]\n",
            "0.810829268292683\n",
            "Iteration:  460\n",
            "[4 3 1 ... 5 2 7] [4 3 3 ... 0 2 7]\n",
            "0.813170731707317\n",
            "Iteration:  470\n",
            "[4 3 1 ... 5 2 7] [4 3 3 ... 0 2 7]\n",
            "0.8156341463414634\n",
            "Iteration:  480\n",
            "[4 3 1 ... 5 2 7] [4 3 3 ... 0 2 7]\n",
            "0.8177317073170731\n",
            "Iteration:  490\n",
            "[4 3 1 ... 5 2 7] [4 3 3 ... 0 2 7]\n",
            "0.8197073170731707\n"
          ]
        }
      ]
    },
    {
      "cell_type": "markdown",
      "source": [
        "Accuracy : ~ 82% on training data"
      ],
      "metadata": {
        "id": "TVgp1sknAE9x"
      }
    },
    {
      "cell_type": "markdown",
      "source": [
        "#4.1 Making predicitions of labels"
      ],
      "metadata": {
        "id": "ORzd975EAUmi"
      }
    },
    {
      "cell_type": "code",
      "source": [
        "test_prediction(0, W1, b1, W2, b2)"
      ],
      "metadata": {
        "colab": {
          "base_uri": "https://localhost:8080/",
          "height": 300
        },
        "id": "jyL5RvNIzHOo",
        "outputId": "a784b188-10ba-4670-f5e1-22a0ad152898"
      },
      "execution_count": 82,
      "outputs": [
        {
          "output_type": "stream",
          "name": "stdout",
          "text": [
            "Prediction:  [4]\n",
            "Label:  4\n"
          ]
        },
        {
          "output_type": "display_data",
          "data": {
            "text/plain": [
              "<Figure size 432x288 with 1 Axes>"
            ],
            "image/png": "[encoded data removed]"
          },
          "metadata": {
            "needs_background": "light"
          }
        }
      ]
    },
    {
      "cell_type": "code",
      "source": [
        "test_prediction(1, W1, b1, W2, b2)\n"
      ],
      "metadata": {
        "colab": {
          "base_uri": "https://localhost:8080/",
          "height": 300
        },
        "id": "0lfIG0QaAYag",
        "outputId": "277f49b5-437b-49f0-af2d-a157391c2332"
      },
      "execution_count": 83,
      "outputs": [
        {
          "output_type": "stream",
          "name": "stdout",
          "text": [
            "Prediction:  [3]\n",
            "Label:  3\n"
          ]
        },
        {
          "output_type": "display_data",
          "data": {
            "text/plain": [
              "<Figure size 432x288 with 1 Axes>"
            ],
            "image/png": "[encoded data removed]"
          },
          "metadata": {
            "needs_background": "light"
          }
        }
      ]
    },
    {
      "cell_type": "code",
      "source": [
        "test_prediction(2, W1, b1, W2, b2)\n"
      ],
      "metadata": {
        "colab": {
          "base_uri": "https://localhost:8080/",
          "height": 300
        },
        "id": "XhGCwi9fAZma",
        "outputId": "46072f22-82bd-419e-b569-bce52ad9692d"
      },
      "execution_count": 84,
      "outputs": [
        {
          "output_type": "stream",
          "name": "stdout",
          "text": [
            "Prediction:  [1]\n",
            "Label:  3\n"
          ]
        },
        {
          "output_type": "display_data",
          "data": {
            "text/plain": [
              "<Figure size 432x288 with 1 Axes>"
            ],
            "image/png": "[encoded data removed]"
          },
          "metadata": {
            "needs_background": "light"
          }
        }
      ]
    },
    {
      "cell_type": "code",
      "source": [
        "test_prediction(3, W1, b1, W2, b2)"
      ],
      "metadata": {
        "colab": {
          "base_uri": "https://localhost:8080/",
          "height": 300
        },
        "id": "bvoYD7SMAazf",
        "outputId": "a0b70c40-ee57-470d-f858-4a9e5ffa6391"
      },
      "execution_count": 85,
      "outputs": [
        {
          "output_type": "stream",
          "name": "stdout",
          "text": [
            "Prediction:  [6]\n",
            "Label:  6\n"
          ]
        },
        {
          "output_type": "display_data",
          "data": {
            "text/plain": [
              "<Figure size 432x288 with 1 Axes>"
            ],
            "image/png": "[encoded data removed]"
          },
          "metadata": {
            "needs_background": "light"
          }
        }
      ]
    },
    {
      "cell_type": "code",
      "source": [
        "test_prediction(4, W1, b1, W2, b2)\n"
      ],
      "metadata": {
        "colab": {
          "base_uri": "https://localhost:8080/",
          "height": 300
        },
        "id": "FMAxexj3AlxI",
        "outputId": "bce135f9-92ba-4b67-8d33-3232fa621bd2"
      },
      "execution_count": 86,
      "outputs": [
        {
          "output_type": "stream",
          "name": "stdout",
          "text": [
            "Prediction:  [0]\n",
            "Label:  4\n"
          ]
        },
        {
          "output_type": "display_data",
          "data": {
            "text/plain": [
              "<Figure size 432x288 with 1 Axes>"
            ],
            "image/png": "[encoded data removed]"
          },
          "metadata": {
            "needs_background": "light"
          }
        }
      ]
    },
    {
      "cell_type": "code",
      "source": [
        "test_prediction(5, W1, b1, W2, b2)\n"
      ],
      "metadata": {
        "colab": {
          "base_uri": "https://localhost:8080/",
          "height": 300
        },
        "id": "hUTXUMByAvl1",
        "outputId": "0461b04a-2c4d-4d40-c68b-06136c1ef7ba"
      },
      "execution_count": 87,
      "outputs": [
        {
          "output_type": "stream",
          "name": "stdout",
          "text": [
            "Prediction:  [9]\n",
            "Label:  9\n"
          ]
        },
        {
          "output_type": "display_data",
          "data": {
            "text/plain": [
              "<Figure size 432x288 with 1 Axes>"
            ],
            "image/png": "[encoded data removed]"
          },
          "metadata": {
            "needs_background": "light"
          }
        }
      ]
    },
    {
      "cell_type": "code",
      "source": [
        "test_prediction(6, W1, b1, W2, b2)\n"
      ],
      "metadata": {
        "colab": {
          "base_uri": "https://localhost:8080/",
          "height": 300
        },
        "id": "mRr9qBU7AxaQ",
        "outputId": "277f0afd-82b5-4eae-ac98-132af4b656b4"
      },
      "execution_count": 88,
      "outputs": [
        {
          "output_type": "stream",
          "name": "stdout",
          "text": [
            "Prediction:  [0]\n",
            "Label:  0\n"
          ]
        },
        {
          "output_type": "display_data",
          "data": {
            "text/plain": [
              "<Figure size 432x288 with 1 Axes>"
            ],
            "image/png": "[encoded data removed]"
          },
          "metadata": {
            "needs_background": "light"
          }
        }
      ]
    },
    {
      "cell_type": "code",
      "source": [
        "test_prediction(7, W1, b1, W2, b2)\n"
      ],
      "metadata": {
        "colab": {
          "base_uri": "https://localhost:8080/",
          "height": 300
        },
        "id": "qsrFD-cvAzhB",
        "outputId": "9a48aef1-e81a-45f9-ce14-28bfde9d7ec9"
      },
      "execution_count": 89,
      "outputs": [
        {
          "output_type": "stream",
          "name": "stdout",
          "text": [
            "Prediction:  [4]\n",
            "Label:  4\n"
          ]
        },
        {
          "output_type": "display_data",
          "data": {
            "text/plain": [
              "<Figure size 432x288 with 1 Axes>"
            ],
            "image/png": "[encoded data removed]"
          },
          "metadata": {
            "needs_background": "light"
          }
        }
      ]
    },
    {
      "cell_type": "code",
      "source": [
        "test_prediction(8, W1, b1, W2, b2)\n"
      ],
      "metadata": {
        "colab": {
          "base_uri": "https://localhost:8080/",
          "height": 300
        },
        "id": "kUtPweR5A1Am",
        "outputId": "21758044-7526-41e8-f877-179e2f85e5b5"
      },
      "execution_count": 90,
      "outputs": [
        {
          "output_type": "stream",
          "name": "stdout",
          "text": [
            "Prediction:  [3]\n",
            "Label:  3\n"
          ]
        },
        {
          "output_type": "display_data",
          "data": {
            "text/plain": [
              "<Figure size 432x288 with 1 Axes>"
            ],
            "image/png": "[encoded data removed]"
          },
          "metadata": {
            "needs_background": "light"
          }
        }
      ]
    },
    {
      "cell_type": "code",
      "source": [
        "test_prediction(9, W1, b1, W2, b2)\n"
      ],
      "metadata": {
        "colab": {
          "base_uri": "https://localhost:8080/",
          "height": 300
        },
        "id": "-GJTkb8mA2tL",
        "outputId": "7225432e-f685-4123-9028-b4a36e834878"
      },
      "execution_count": 91,
      "outputs": [
        {
          "output_type": "stream",
          "name": "stdout",
          "text": [
            "Prediction:  [5]\n",
            "Label:  5\n"
          ]
        },
        {
          "output_type": "display_data",
          "data": {
            "text/plain": [
              "<Figure size 432x288 with 1 Axes>"
            ],
            "image/png": "[encoded data removed]"
          },
          "metadata": {
            "needs_background": "light"
          }
        }
      ]
    },
    {
      "cell_type": "code",
      "source": [
        "dev_predictions = make_predictions(X_valid, W1, b1, W2, b2)\n",
        "get_accuracy(dev_predictions, Y_valid) "
      ],
      "metadata": {
        "colab": {
          "base_uri": "https://localhost:8080/"
        },
        "id": "DaWlZCuWzpDK",
        "outputId": "f4e23101-7118-4266-8c2e-db48e72987de"
      },
      "execution_count": 97,
      "outputs": [
        {
          "output_type": "stream",
          "name": "stdout",
          "text": [
            "[9 8 7 2 1 4 4 6 9 4 8 7 5 7 6 8 9 9 3 5 4 7 8 7 3 4 4 7 8 1 1 2 1 7 5 2 4\n",
            " 9 9 4 8 7 0 0 6 5 1 9 1 4 6 8 8 5 0 4 8 2 7 9 6 3 0 2 9 8 3 3 0 8 7 3 4 2\n",
            " 9 9 7 1 9 5 3 4 7 8 9 5 3 9 8 6 5 3 1 7 9 1 5 0 5 0 4 8 1 4 3 8 3 2 8 3 5\n",
            " 7 5 5 3 7 5 4 5 3 9 3 0 7 2 7 4 1 4 9 4 9 3 9 8 5 6 1 3 3 2 4 0 9 9 1 5 3\n",
            " 0 1 7 0 5 7 5 7 0 4 2 4 6 4 7 1 6 0 1 7 7 7 3 4 4 6 1 8 0 2 8 0 7 2 5 2 5\n",
            " 8 8 3 1 8 8 0 7 2 8 6 6 6 2 1 9 3 5 9 0 2 6 5 6 3 9 6 2 2 6 2 1 5 7 1 9 0\n",
            " 2 5 2 7 5 4 3 4 5 7 1 9 8 4 3 9 8 7 9 8 2 0 2 2 2 9 2 9 3 7 7 6 6 2 3 1 6\n",
            " 3 0 1 2 0 0 1 0 3 8 6 6 5 5 4 2 2 2 7 7 7 1 5 2 7 5 5 4 3 7 2 3 4 1 7 8 6\n",
            " 0 0 4 8 1 4 1 4 1 9 9 9 9 4 6 6 8 2 0 6 8 1 0 5 6 4 0 7 6 7 9 5 4 7 8 1 7\n",
            " 3 1 7 1 2 4 7 3 1 9 9 7 9 0 6 2 4 6 6 3 1 4 8 9 9 3 6 3 0 5 1 2 1 6 3 8 1\n",
            " 7 6 7 3 8 3 8 1 5 8 0 1 8 3 2 2 1 1 2 3 6 6 7 1 0 9 9 0 1 8 8 1 7 4 8 9 1\n",
            " 3 7 4 6 0 8 8 2 6 1 7 2 6 6 5 1 9 7 7 7 6 4 5 6 1 5 6 9 6 1 8 4 7 7 8 8 2\n",
            " 5 5 2 8 7 5 6 6 7 2 9 3 9 5 0 1 2 6 5 0 1 4 4 8 2 7 1 6 1 3 9 5 2 8 1 3 4\n",
            " 1 0 7 6 1 3 0 4 0 0 7 9 1 0 6 7 3 5 7 3 7 7 1 0 1 9 7 7 6 4 2 9 0 7 9 1 5\n",
            " 8 7 6 2 9 6 3 0 3 4 9 2 6 2 9 8 0 7 3 2 1 1 8 3 2 0 9 9 2 8 0 1 8 4 0 9 9\n",
            " 1 0 8 9 7 3 9 1 1 1 5 5 8 9 0 5 9 9 3 9 8 4 6 7 4 6 8 6 5 1 2 1 1 6 1 4 6\n",
            " 6 0 8 9 7 1 3 6 4 4 4 2 2 3 0 7 8 9 2 1 6 8 7 7 8 6 6 8 1 8 2 7 7 9 9 8 0\n",
            " 6 1 2 1 3 6 2 4 4 0 1 7 3 0 1 6 3 2 1 2 5 3 6 8 8 1 6 1 6 0 8 6 3 4 6 0 4\n",
            " 9 2 0 1 5 6 3 0 8 7 6 2 4 9 7 7 1 1 0 6 6 2 0 4 7 8 4 6 3 5 0 7 1 1 2 6 8\n",
            " 3 7 1 1 6 1 4 6 6 0 9 0 8 1 1 3 3 0 9 3 7 3 2 4 1 5 6 3 9 4 1 0 3 0 1 5 9\n",
            " 3 0 0 9 7 2 2 5 0 1 9 9 4 4 4 1 0 2 0 2 9 2 1 2 6 8 6 1 0 7 3 7 0 5 9 1 3\n",
            " 1 8 7 9 2 4 3 5 1 0 1 0 4 3 5 2 7 0 6 6 5 0 8 5 4 5 2 0 9 8 2 5 8 7 3 5 4\n",
            " 6 2 2 7 1 8 2 8 3 6 3 6 0 0 8 6 5 9 9 1 4 1 4 6 9 8 0 9 7 2 0 2 3 4 0 7 9\n",
            " 9 4 3 9 1 4 3 8 7 9 3 9 3 0 1 8 7 9 5 5 0 7 2 4 4 9 1 6 9 1 4 4 1 4 0 2 7\n",
            " 6 5 8 4 9 3 6 3 9 3 3 9 3 4 2 9 2 8 7 0 1 3 4 5 5 5 2 9 0 3 6 4 3 6 9 4 7\n",
            " 2 0 1 1 2 6 4 6 6 3 6 3 5 1 5 2 1 5 4 1 8 3 3 5 5 5 8 6 6 9 1 7 0 4 0 8 7\n",
            " 3 8 9 5 3 7 2 1 8 5 6 0 1 3 9 9 3 4 7 3 3 9 5 0 9 8 9 1 0 3 1 1 0 1 0 3 6\n",
            " 8] [4 8 7 2 1 4 2 6 3 4 8 7 5 7 2 8 5 9 5 5 4 9 8 7 3 4 4 7 8 1 1 2 1 7 5 2 4\n",
            " 7 9 4 8 7 0 0 6 5 1 9 1 4 6 8 8 3 0 4 8 5 7 9 6 3 0 2 9 1 3 5 0 5 7 3 4 8\n",
            " 9 9 9 1 9 5 3 4 7 8 9 7 3 4 8 6 5 7 1 7 9 1 5 0 5 0 4 8 1 4 3 8 3 2 8 5 3\n",
            " 7 5 8 3 7 5 4 5 3 9 3 0 7 2 7 4 1 4 9 4 9 3 9 8 5 6 1 3 3 2 4 0 9 9 1 5 3\n",
            " 0 1 0 0 3 7 9 3 0 4 2 4 6 4 7 1 6 0 1 9 7 7 3 4 4 6 1 8 0 2 1 0 7 2 5 3 5\n",
            " 8 8 3 1 8 8 0 7 2 8 6 6 6 2 1 9 2 5 9 0 2 6 5 6 3 9 6 2 6 6 2 1 3 7 1 9 0\n",
            " 2 3 2 7 5 9 3 4 5 7 1 9 8 4 2 9 2 7 9 8 2 6 2 2 3 9 2 9 3 9 7 8 6 2 5 1 6\n",
            " 3 0 1 2 0 0 1 7 3 8 6 6 5 5 4 2 2 2 9 3 7 2 5 2 7 5 8 4 3 9 7 3 4 1 7 8 6\n",
            " 0 0 4 8 1 4 1 2 1 3 9 9 9 4 6 6 8 2 0 6 8 1 0 5 6 4 0 7 2 8 9 5 4 7 8 1 7\n",
            " 3 1 7 1 2 4 9 3 1 9 3 7 9 0 6 2 4 6 8 3 8 4 5 9 9 3 6 3 0 5 1 2 2 6 3 8 9\n",
            " 7 4 9 3 1 3 8 7 8 8 0 1 5 3 3 2 1 1 2 3 6 6 7 1 0 9 9 0 1 5 8 1 7 4 5 9 3\n",
            " 3 7 4 6 0 8 8 2 5 1 7 2 6 6 3 1 4 7 7 7 6 4 5 6 8 5 6 8 5 3 8 2 7 7 8 0 8\n",
            " 5 5 2 8 8 5 6 6 7 0 9 3 9 5 0 5 2 6 0 0 1 4 4 8 6 7 1 6 1 3 7 5 2 8 1 3 4\n",
            " 1 0 7 2 1 5 0 4 0 0 9 4 1 0 6 9 3 5 7 3 7 7 3 0 1 9 7 7 6 4 2 9 0 7 7 1 5\n",
            " 8 7 6 2 9 6 3 0 3 4 9 2 6 2 9 8 9 9 3 2 3 1 5 3 3 7 9 9 2 8 0 1 8 9 0 9 9\n",
            " 1 0 8 7 9 5 9 1 1 1 5 5 8 9 0 0 9 9 5 4 8 4 2 7 4 6 8 6 8 1 2 1 1 6 1 4 6\n",
            " 6 0 8 9 7 1 3 6 4 4 4 2 7 8 0 3 8 7 2 1 6 8 7 8 8 2 6 5 3 8 5 2 5 9 9 8 0\n",
            " 2 1 2 1 3 5 2 6 4 0 1 7 3 0 1 6 5 2 1 2 0 3 6 8 8 1 6 1 6 0 3 5 3 4 6 7 4\n",
            " 9 2 0 1 5 6 3 0 8 7 6 2 4 4 7 7 1 1 0 5 6 2 0 9 7 9 4 6 3 5 0 3 1 2 2 6 7\n",
            " 3 9 1 1 6 1 6 6 6 0 9 0 5 1 2 3 3 0 9 3 2 3 2 4 1 5 6 3 4 4 1 0 3 8 1 0 8\n",
            " 3 0 0 9 7 6 2 5 5 1 7 9 4 7 4 1 9 2 0 2 9 2 1 2 6 8 0 1 0 7 3 7 0 5 9 1 3\n",
            " 1 8 7 8 2 4 3 5 1 0 1 0 6 3 5 2 7 0 6 6 5 6 4 5 9 5 8 0 9 8 2 5 8 7 3 5 4\n",
            " 6 0 6 0 1 8 2 8 3 6 2 6 0 0 8 6 3 9 9 1 4 1 4 6 9 8 0 7 7 2 0 2 3 4 0 7 9\n",
            " 7 4 8 9 1 4 5 8 7 9 7 9 8 0 8 8 7 3 5 3 0 9 2 5 4 9 1 6 4 1 4 4 1 9 0 2 7\n",
            " 6 5 8 4 9 2 6 3 4 3 3 9 3 4 2 9 7 0 7 0 1 8 4 5 3 5 2 9 0 5 6 5 3 6 9 6 7\n",
            " 2 0 1 1 2 6 4 6 6 3 6 3 5 1 5 2 1 3 4 1 8 3 3 5 5 5 8 6 4 9 1 7 0 4 0 8 7\n",
            " 3 8 9 5 3 7 2 1 8 5 6 0 2 3 9 9 3 4 7 3 3 9 5 0 9 8 8 1 0 3 1 1 0 1 0 3 6\n",
            " 8]\n"
          ]
        },
        {
          "output_type": "execute_result",
          "data": {
            "text/plain": [
              "0.816"
            ]
          },
          "metadata": {},
          "execution_count": 97
        }
      ]
    },
    {
      "cell_type": "markdown",
      "source": [
        "~82% accuracy on validation set"
      ],
      "metadata": {
        "id": "FYbxXPabBVRB"
      }
    },
    {
      "cell_type": "code",
      "source": [
        ""
      ],
      "metadata": {
        "id": "Ur0GSAGFzx2O"
      },
      "execution_count": null,
      "outputs": []
    },
    {
      "cell_type": "code",
      "source": [
        ""
      ],
      "metadata": {
        "id": "5JUdiPPW2CDP"
      },
      "execution_count": null,
      "outputs": []
    },
    {
      "cell_type": "markdown",
      "source": [
        ""
      ],
      "metadata": {
        "id": "LnX208pN2Btp"
      }
    }
  ]
}